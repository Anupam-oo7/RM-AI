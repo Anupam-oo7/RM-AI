{
 "cells": [
  {
   "cell_type": "code",
   "execution_count": 210,
   "id": "5551e67a-d04c-499c-bd8c-32ef64cc6c25",
   "metadata": {},
   "outputs": [],
   "source": [
    "import numpy as np\n",
    "import pandas as pd\n",
    "import math\n",
    "import matplotlib.pyplot as plt"
   ]
  },
  {
   "cell_type": "code",
   "execution_count": 212,
   "id": "eec74493-74c3-4366-8668-fcb490536b86",
   "metadata": {},
   "outputs": [],
   "source": [
    "df = pd.read_csv(\"C:\\\\Users\\\\anupa\\\\Desktop\\\\Jupyter & Python\\\\RM\\\\Linear Regression\\\\linear_regression_dataset.csv\")\n",
    "\n",
    "# Separating Y in trainig set and converting it to a np array of size (500,1)\n",
    "data_Ytraining = df.loc[:, 'TOTCHG']\n",
    "arr_Ytraining = data_Ytraining.to_numpy()\n",
    "\n",
    "# Separating X in trainig set and converting it to a np array of size (500,5)\n",
    "data_Xtraining = df.drop('TOTCHG', axis=1)\n",
    "arr_Xtraining = data_Xtraining.to_numpy()"
   ]
  },
  {
   "cell_type": "code",
   "execution_count": 214,
   "id": "f98cdbed-e0e1-4f85-8e7e-1f716c10d17f",
   "metadata": {},
   "outputs": [
    {
     "data": {
      "text/plain": [
       "'\\narr_Xtraining_scaled = mean_normalization(arr_Xtraining)\\narr_Ytraining_scaled = mean_normalization(arr_Ytraining)\\n#print(arr_Ytraining_scaled)\\n#print(arr_Xtraining_scaled)\\n'"
      ]
     },
     "execution_count": 214,
     "metadata": {},
     "output_type": "execute_result"
    }
   ],
   "source": [
    "def mean_normalization(x):\n",
    "    # Calculating mean in a np array 'x' along axis 0 while excluding/ignoring NaN values\n",
    "    avg_value = np.nanmean(x, axis=0) \n",
    "    # Calculating max in a np array 'x' along axis 0 while excluding/ignoring NaN values\n",
    "    max_value = np.nanmax(x, axis=0)\n",
    "    # Calculating min in a np array 'x' along axis 0 while excluding/ignoring NaN values\n",
    "    min_value = np.nanmin(x, axis=0)\n",
    "    # Calculating norm in a np array 'x' along axis 0\n",
    "    x_norm = (x - avg_value) / (max_value - min_value)\n",
    "    return x_norm\n",
    "\n",
    "'''\n",
    "arr_Xtraining_scaled = mean_normalization(arr_Xtraining)\n",
    "arr_Ytraining_scaled = mean_normalization(arr_Ytraining)\n",
    "#print(arr_Ytraining_scaled)\n",
    "#print(arr_Xtraining_scaled)\n",
    "'''"
   ]
  },
  {
   "cell_type": "code",
   "execution_count": 216,
   "id": "0db06c24-0ab4-42db-93a0-582b70cc1d26",
   "metadata": {
    "scrolled": true
   },
   "outputs": [],
   "source": [
    "def Zscore_normalization(x):\n",
    "    # Calculating mean in a np array 'x' along axis 0 while excluding/ignoring NaN values\n",
    "    avg_value = np.nanmean(x, axis=0) \n",
    "    # Calculating std in a np array 'x' along axis 0 while excluding/ignoring NaN values\n",
    "    std_value = np.nanstd(x,axis=0)\n",
    "    # Calculating normalized np array for 'x' \n",
    "    x_norm = (x - avg_value) / std_value\n",
    "    return x_norm\n",
    "\n",
    "\n",
    "arr_Xtraining_scaled = Zscore_normalization(arr_Xtraining)\n",
    "arr_Ytraining_scaled = Zscore_normalization(arr_Ytraining)\n",
    "#print(arr_Ytraining_scaled)\n",
    "#print(arr_Xtraining_scaled)\n"
   ]
  },
  {
   "cell_type": "code",
   "execution_count": 218,
   "id": "b32075c1-9c80-448b-9517-b8261ddae58c",
   "metadata": {},
   "outputs": [],
   "source": [
    "b_i = 0.0 # Initialize b (intercept)\n",
    "w_i = np.zeros(arr_Xtraining_scaled.shape[1]) # Initialize w (vector of x)\n",
    "alpha = 0.01 # Learning rate\n",
    "num_iters = 1000 # Number of iterations to try to reach minima"
   ]
  },
  {
   "cell_type": "code",
   "execution_count": 220,
   "id": "c40c7eac-f32a-407c-bd79-7331a6817e2a",
   "metadata": {},
   "outputs": [],
   "source": [
    "def predict_Y(x, w, b): \n",
    "    return np.dot(x, w) + b  "
   ]
  },
  {
   "cell_type": "code",
   "execution_count": 222,
   "id": "7e977528-90bf-43e1-83fd-e6b65edf08ab",
   "metadata": {},
   "outputs": [],
   "source": [
    "def CF_op(x, y, w, b):\n",
    "    m = x.shape[0] # Givivng m the value of number of iterations i.e. 500\n",
    "    cost=0.0 # Initializing CF\n",
    "    # Loop to calculate the CF\n",
    "    for i in range (m):\n",
    "        J_wb= ((np.dot(x[i],w)+b)-y[i])**2\n",
    "        cost+=J_wb\n",
    "    cost=cost/(2*m)\n",
    "    return cost"
   ]
  },
  {
   "cell_type": "code",
   "execution_count": 224,
   "id": "5a3521e2-9008-4196-9694-b105a58046c6",
   "metadata": {},
   "outputs": [],
   "source": [
    "def find_Dparams(x, y, w, b):\n",
    "    # Givivng m the value of number of iterations i.e. 500 and n the value of number of dimensions of x since we need a w for each x\n",
    "    m, n = x.shape  \n",
    "    # Initailizing the array of change(derivative) in w for each x\n",
    "    dj_dw = np.zeros(n)\n",
    "    # Initializing change(derivative) in b\n",
    "    dj_db = 0.0\n",
    "\n",
    "    # Replace NaN values with median\n",
    "    a = np.nanmedian(x, axis=0)\n",
    "    for i in range(m):\n",
    "        for j in range(n):\n",
    "            if math.isnan(x[i, j]):\n",
    "                x[i, j] = a[j]    \n",
    "                \n",
    "    # Calculation of the change in params(w and b)\n",
    "    for i in range(m):\n",
    "        error = (np.dot(x[i], w) + b) - y[i]\n",
    "        dj_dw += error * x[i]\n",
    "        dj_db += error\n",
    "    dj_dw /= m\n",
    "    dj_db /= m\n",
    "    \n",
    "    return dj_dw, dj_db\n",
    "\n",
    "def GD_op(x, y, w, b, alpha, num_iters):\n",
    "    gd = []\n",
    "    for i in range(num_iters):\n",
    "        dj_dw, dj_db = find_Dparams(x, y, w, b)\n",
    "        w -= alpha * dj_dw\n",
    "        b -= alpha * dj_db\n",
    "\n",
    "        if i < 10000000:\n",
    "            gd.append(CF_op(x, y, w, b))\n",
    "\n",
    "        if i % math.ceil(num_iters / 10) == 0:\n",
    "            print(f\"Iteration {i}: Cost: {gd[-1]}\")\n",
    "\n",
    "    return w, b"
   ]
  },
  {
   "cell_type": "code",
   "execution_count": 226,
   "id": "6add1088-527f-4a30-94c0-182c2d4e7fe4",
   "metadata": {},
   "outputs": [
    {
     "data": {
      "text/plain": [
       "'y=find_Dparams(arr_Xtraining_scaled, arr_Ytraining_scaled, w_i, b_i)\\ny'"
      ]
     },
     "execution_count": 226,
     "metadata": {},
     "output_type": "execute_result"
    }
   ],
   "source": [
    "'''y=find_Dparams(arr_Xtraining_scaled, arr_Ytraining_scaled, w_i, b_i)\n",
    "y'''"
   ]
  },
  {
   "cell_type": "code",
   "execution_count": 228,
   "id": "f6f8afa4-162f-4637-978e-ba1b808ffedd",
   "metadata": {},
   "outputs": [
    {
     "name": "stdout",
     "output_type": "stream",
     "text": [
      "Iteration 0: Cost: 0.49483920956954963\n",
      "Iteration 100: Cost: 0.26592740426217515\n",
      "Iteration 200: Cost: 0.23023906424901858\n",
      "Iteration 300: Cost: 0.22436134996614338\n",
      "Iteration 400: Cost: 0.22335252630420704\n",
      "Iteration 500: Cost: 0.22317361419375253\n",
      "Iteration 600: Cost: 0.22314102932532706\n",
      "Iteration 700: Cost: 0.2231349626930739\n",
      "Iteration 800: Cost: 0.22313381190454254\n",
      "Iteration 900: Cost: 0.22313358997868057\n",
      "W final: [ 0.24058291 -0.0501883   0.64275256 -0.02810058 -0.35722683]\n",
      "B final: -8.52415766896852e-06\n"
     ]
    }
   ],
   "source": [
    "w_f, b_f = GD_op(arr_Xtraining_scaled, arr_Ytraining_scaled, w_i, b_i, alpha, num_iters)\n",
    "\n",
    "print(f\"W final: {w_f}\")\n",
    "print(f\"B final: {b_f}\")"
   ]
  },
  {
   "cell_type": "code",
   "execution_count": 229,
   "id": "e6ec11ae-5e35-47ae-b838-4873dd32380e",
   "metadata": {},
   "outputs": [
    {
     "data": {
      "image/png": "[encoded data removed]",
      "text/plain": [
       "<Figure size 640x480 with 1 Axes>"
      ]
     },
     "metadata": {},
     "output_type": "display_data"
    }
   ],
   "source": [
    "arr_Ypredicted = predict_Y(arr_Xtraining_scaled, w_f, b_f)\n",
    "# Scatter plot of actual vs predicted values\n",
    "plt.scatter(arr_Ytraining, arr_Ypredicted, color=\"cyan\", label=\"Training Data\")\n",
    "# Plot ideal fit line\n",
    "plt.plot([min(arr_Ytraining), max(arr_Ytraining)], [min(arr_Ypredicted), max(arr_Ypredicted)], color=\"black\", linestyle=\"-\")\n",
    "plt.xlabel(\"Actual Values\") #X-axis Label\n",
    "plt.ylabel(\"Predicted Values\") #Y-axis Label\n",
    "plt.title(\"Actual vs predicted Values for Training Data (Multiple Features)\") #Title\n",
    "plt.show() #Output graph"
   ]
  },
  {
   "cell_type": "code",
   "execution_count": null,
   "id": "f43806b0-0402-4c99-92fe-e02ff492a00f",
   "metadata": {},
   "outputs": [],
   "source": []
  }
 ],
 "metadata": {
  "kernelspec": {
   "display_name": "Python [conda env:base] *",
   "language": "python",
   "name": "conda-base-py"
  },
  "language_info": {
   "codemirror_mode": {
    "name": "ipython",
    "version": 3
   },
   "file_extension": ".py",
   "mimetype": "text/x-python",
   "name": "python",
   "nbconvert_exporter": "python",
   "pygments_lexer": "ipython3",
   "version": "3.12.3"
  }
 },
 "nbformat": 4,
 "nbformat_minor": 5
}
